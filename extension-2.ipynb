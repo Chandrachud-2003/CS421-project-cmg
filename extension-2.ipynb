{
 "cells": [
  {
   "attachments": {},
   "cell_type": "markdown",
   "metadata": {},
   "source": [
    "# Warp Algorithm for Regression\n",
    "\n",
    "This extension implements a version of the Warp algoirthm that detects regressions and adapts to them.\n",
    "\n",
    "Here, we have used the error_between_line_regression and error_within_line_regression functions in the correction.py file to test the algorithm against both within-line-regression and between-line-regression."
   ]
  },
  {
   "cell_type": "code",
   "execution_count": null,
   "metadata": {},
   "outputs": [],
   "source": [
    "# open the generated synthetic data file and read it as a python dictionary called data\n",
    "\n",
    "import json\n",
    "\n",
    "file = open('synthetic_dataset_with_time.txt', 'r')\n",
    "text = file.read()\n",
    "data = json.loads(text)"
   ]
  },
  {
   "cell_type": "code",
   "execution_count": null,
   "metadata": {},
   "outputs": [],
   "source": [
    "import emip_toolkit as EMTK\n",
    "\n",
    "# find areas of interest (AOIs) once again\n",
    "image_path = \"./\"\n",
    "image = \"synthetic_text.png\"\n",
    "aoi = EMTK.find_aoi(image, image_path, level=\"sub-line\")\n",
    "\n",
    "\n",
    "# add tokens to AOIs \n",
    "file_path = \"./\"\n",
    "aois_with_tokens = EMTK.add_tokens_to_AOIs(file_path, image.split(\".\")[0]+\".txt\", aoi)\n",
    "aois_with_tokens.head()\n",
    "\n",
    "\n",
    "import correction\n",
    "\n",
    "# find the y coordinate of each line in the text\n",
    "line_ys = correction.find_lines_Y(aoi)"
   ]
  },
  {
   "cell_type": "code",
   "execution_count": null,
   "metadata": {},
   "outputs": [],
   "source": [
    "import numpy as np\n",
    "import drift_algorithms as algo\n",
    "from tqdm import tqdm"
   ]
  },
  {
   "cell_type": "code",
   "execution_count": null,
   "metadata": {},
   "outputs": [],
   "source": [
    "# draw original correct fixations\n",
    "\n",
    "correction.draw_fixation('synthetic_text.png', data['robot1'].copy())"
   ]
  },
  {
   "cell_type": "code",
   "execution_count": null,
   "metadata": {},
   "outputs": [],
   "source": [
    "# generate within-line regression over the correct trial\n",
    "image_path = \"./\"\n",
    "image = \"synthetic_text.png\"\n",
    "\n",
    "aoi_words = EMTK.find_aoi(image, image_path, level=\"sub-line\")\n",
    "aoi_lines = EMTK.find_aoi(image, image_path, level=\"line\")\n",
    "\n",
    "# Creating a sample lsit to store an array of an array of words where each index represents a line\n",
    "words_sorted_by_line = []\n",
    "\n",
    "for i in range(len(aoi_lines)):\n",
    "    words_sorted_by_line.append([])\n",
    "\n",
    "# Looping through the words and appending them to the correct line\n",
    "for i in range(len(aoi_words)):\n",
    "    word_line_number = int(aoi_words.at[i, 'name'].strip().split(' ')[1])\n",
    "    # Appending the x and y coordinates of the word to the correct line\n",
    "    words_sorted_by_line[word_line_number-1].append([aoi_words.at[i, 'x'], aoi_words.at[i, 'y']])\n",
    "\n",
    "error_test, data['robot1'] = correction.error_within_line_regression(1, data['robot1'], words_sorted_by_line, aoi_lines)\n",
    "\n",
    "# Printing the length of robot1 and error_test to check if the length of the two lists are the same\n",
    "print(len(data['robot1']))\n",
    "print(len(error_test))\n",
    "\n",
    "# draw the trial with added error\n",
    "correction.draw_fixation('synthetic_text.png', error_test)"
   ]
  }
 ],
 "metadata": {
  "kernelspec": {
   "display_name": "Python 3",
   "language": "python",
   "name": "python3"
  },
  "language_info": {
   "name": "python",
   "version": "3.10.8"
  },
  "orig_nbformat": 4,
  "vscode": {
   "interpreter": {
    "hash": "aee8b7b246df8f9039afb4144a1f6fd8d2ca17a180786b69acc140d282b71a49"
   }
  }
 },
 "nbformat": 4,
 "nbformat_minor": 2
}
